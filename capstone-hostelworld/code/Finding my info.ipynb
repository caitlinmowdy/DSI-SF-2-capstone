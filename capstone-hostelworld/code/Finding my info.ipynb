{
 "cells": [
  {
   "cell_type": "code",
   "execution_count": 1,
   "metadata": {
    "collapsed": true
   },
   "outputs": [],
   "source": [
    "import numpy as np\n",
    "import scipy \n",
    "import seaborn as sns\n",
    "import pandas as pd\n",
    "import patsy\n",
    "import matplotlib\n",
    "import matplotlib.pyplot as plt\n",
    "from scrapy.selector import Selector\n",
    "from scrapy.http import HtmlResponse\n",
    "import requests\n",
    "import random\n",
    "import sys\n",
    "from IPython.display import display\n",
    "from bs4 import BeautifulSoup\n",
    "from IPython.display import display"
   ]
  },
  {
   "cell_type": "code",
   "execution_count": 2,
   "metadata": {
    "collapsed": true
   },
   "outputs": [],
   "source": [
    "me_rv_df = pd.DataFrame()\n",
    "me_df = pd.DataFrame()\n",
    "X = 'http://www.hostelworld.com/profile/18007308/reviews'\n",
    "response = requests.get(X)\n",
    "HTML = response.text\n",
    "    \n",
    "me_rv_df['text'] = Selector(text=HTML).xpath('//div[@id]/p/text()').extract()\n",
    "me_rv_df['user_id'] = str(18007308)\n",
    "me_rv_df['rev_date'] = Selector(text=HTML).xpath(\"//span[@class='reviewdate']/text()\").extract()\n",
    "me_rv_df['score'] = Selector(text=HTML).xpath(\"//div[@class='textrating']/text()\").extract()\n",
    "me_rv_df['hostel'] = Selector(text=HTML).xpath(\"//div[@class='popupreviewlocation']/a/text()\").extract()\n",
    "me_rv_df['location'] = Selector(text=HTML).xpath(\"//div[@class='popupreviewlocation']/span/text()\").extract()\n",
    "me_rv_df['link'] = Selector(text=HTML).xpath(\"//div[@class='popupreviewlocation']/a/@href\").extract()\n",
    "\n",
    "me_df['user_id'] = int(18007308)\n",
    "me_df['about'] = [Selector(text=HTML).xpath(\"//li[@class='reviewerdetails']/text()\").extract()[0]] \n",
    "me_df['num_revs']=len(me_rv_df['text']) \n",
    "me_df['user_id'] = int(18007308)"
   ]
  },
  {
   "cell_type": "code",
   "execution_count": 3,
   "metadata": {
    "collapsed": true
   },
   "outputs": [],
   "source": [
    "my_hostels_df=pd.DataFrame()\n",
    "hostels_DNE = []\n",
    "\n",
    "for i,url in enumerate(me_rv_df.link):\n",
    "\n",
    "    hst_df = pd.DataFrame()\n",
    "    X = str(url)\n",
    "    response = requests.get(X)\n",
    "    HTML = response.text\n",
    "    \n",
    "    free = Selector(text=HTML).xpath('//li[1]/div/p/text()').extract()\n",
    "    general = Selector(text=HTML).xpath('//li[2]/div/p').extract()\n",
    "    services = Selector(text=HTML).xpath('//li[3]/div/p').extract()\n",
    "    food_drink = Selector(text=HTML).xpath('//li[4]/div/p').extract()\n",
    "    entertainment = Selector(text=HTML).xpath('//li[5]/div/p').extract()\n",
    "    policies = Selector(text=HTML).xpath(\"//div[@id='panel4']/p\").extract()\n",
    "    ratings = Selector(text=HTML).xpath(\"//div[@class='ratingbox']/text()\").extract()\n",
    "    description = Selector(text=HTML).xpath(\"//div[@class='section-propertytext']/div[@class='prop-intro']/div[@class='microdetailstext hiddentext prop-text bigtext ']/text()\").extract()\n",
    "    awards = len(Selector(text=HTML).xpath(\"//ul[@class='small-block-grid-1 medium-block-grid-2 large-block-grid-3']/li/b/text()\").extract())\n",
    "    num_rev = str(Selector(text=HTML).xpath(\"//div[@class='microsite_rating clearfix']/div/span[@class='reviews-count']/text()\").extract()).split(\" \")[0]\n",
    "    rev_hl = Selector(text=HTML).xpath(\"//div[@class='small-12 medium-4 large-3 columns hide-for-small']/div/ul/li/span[@class='ratingfactorlabel']\").extract()\n",
    "    \n",
    "    hst = me_rv_df.hostel.iloc[i]\n",
    "    loc = me_rv_df.location.iloc[i]\n",
    "    \n",
    "    # prints out progress\n",
    "#     if i%10 == 0:\n",
    "#         sys.stdout.write('\\r'+ str((float(i)/len(my_rv_df.link))*100)+'%')\n",
    "        \n",
    "    # if statements to make sure the link goes to a hostel that still exist\n",
    "    if len(ratings) != 0:\n",
    "        if float(ratings[0]) != 0.0:\n",
    "\n",
    "            hst_df['rating'] = [float(ratings[0])]\n",
    "            hst_df['desc'] = [description]\n",
    "            hst_df['FREE'] = [free]\n",
    "            hst_df['GENERAL'] = [general] \n",
    "            hst_df['SERVICES'] = [services]\n",
    "            hst_df['FOOD_DRINK'] = [food_drink]\n",
    "            hst_df['ENTERTAINMENT'] = [entertainment]\n",
    "            hst_df['POLICIES'] = [policies]\n",
    "            hst_df['hostel']= hst\n",
    "            hst_df['location']= loc\n",
    "            hst_df['num_revs'] = num_rev\n",
    "            hst_df['num_awards'] = awards\n",
    "            hst_df['rev_highlights'] = [rev_hl]\n",
    "        \n",
    "            my_hostels_df = my_hostels_df.append(hst_df,ignore_index=True)\n",
    "            \n",
    "        # else statment to collect index where hostles no longer exist\n",
    "        else:\n",
    "            hostels_DNE.append(i)\n",
    "    # else statment to collect index where hostles no longer exist\n",
    "    else:\n",
    "        hostels_DNE.append(i)"
   ]
  },
  {
   "cell_type": "code",
   "execution_count": 57,
   "metadata": {
    "collapsed": true
   },
   "outputs": [],
   "source": [
    "# defs to remove tags and ugly things\n",
    "\n",
    "def no_space_n(value):\n",
    "    return str(value).replace('\\n','').replace('  ','') \n",
    "def no_r(value):\n",
    "    return str(value).replace('\\r','') \n",
    "def no_n(value):\n",
    "    return value.replace('\\n','') \n",
    "def no_nc(value):\n",
    "    return value.replace('\\n,','').replace(',\\n','') \n",
    "def add_c(value):\n",
    "    return value.replace('  ',',')\n",
    "def del_ec(value):\n",
    "    return value.replace(',,,','').replace(',,',',')\n",
    "def del_ec2(value):\n",
    "    return value.replace(',,',',').replace(',,,',',').replace(',,',',')\n",
    "def no_sc(value):\n",
    "    return value.replace('.','').replace(',','').replace('!','').replace('?','').replace('*','').replace('-','').replace('_','').replace(\"'\",\"\").replace('/','').replace(':','').replace(\";\",\"\")\n",
    "\n",
    "def soupit(value):\n",
    "    soup = BeautifulSoup(str(value))\n",
    "    value = ''.join(soup.findAll(text=True))\n",
    "    return value\n",
    "\n",
    "def no_uni(value):\n",
    "    return value.decode('unicode_escape').encode('ascii','ignore')\n",
    "\n",
    "def rv_s(value):\n",
    "    return value[1:]"
   ]
  },
  {
   "cell_type": "code",
   "execution_count": 58,
   "metadata": {
    "collapsed": false
   },
   "outputs": [
    {
     "ename": "AttributeError",
     "evalue": "'list' object has no attribute 'replace'",
     "output_type": "error",
     "traceback": [
      "\u001b[0;31m---------------------------------------------------------------------------\u001b[0m",
      "\u001b[0;31mAttributeError\u001b[0m                            Traceback (most recent call last)",
      "\u001b[0;32m<ipython-input-58-a6649f3ac51c>\u001b[0m in \u001b[0;36m<module>\u001b[0;34m()\u001b[0m\n\u001b[0;32m----> 1\u001b[0;31m \u001b[0mmy_hostels_df\u001b[0m\u001b[0;34m[\u001b[0m\u001b[0;34m'FREE'\u001b[0m\u001b[0;34m]\u001b[0m\u001b[0;34m[\u001b[0m\u001b[0;36m0\u001b[0m\u001b[0;34m]\u001b[0m\u001b[0;34m.\u001b[0m\u001b[0mreplace\u001b[0m\u001b[0;34m(\u001b[0m\u001b[0;34m' '\u001b[0m\u001b[0;34m,\u001b[0m\u001b[0;34m''\u001b[0m\u001b[0;34m)\u001b[0m\u001b[0;34m.\u001b[0m\u001b[0mreplace\u001b[0m\u001b[0;34m(\u001b[0m\u001b[0;34m'\\\\n'\u001b[0m\u001b[0;34m,\u001b[0m\u001b[0;34m''\u001b[0m\u001b[0;34m)\u001b[0m\u001b[0;34m.\u001b[0m\u001b[0mreplace\u001b[0m\u001b[0;34m(\u001b[0m\u001b[0;34m'['\u001b[0m\u001b[0;34m,\u001b[0m\u001b[0;34m''\u001b[0m\u001b[0;34m)\u001b[0m\u001b[0;34m.\u001b[0m\u001b[0mreplace\u001b[0m\u001b[0;34m(\u001b[0m\u001b[0;34m']'\u001b[0m\u001b[0;34m,\u001b[0m\u001b[0;34m''\u001b[0m\u001b[0;34m)\u001b[0m\u001b[0;34m\u001b[0m\u001b[0m\n\u001b[0m",
      "\u001b[0;31mAttributeError\u001b[0m: 'list' object has no attribute 'replace'"
     ]
    }
   ],
   "source": [
    "my_hostels_df['FREE'][0].replace(' ','').replace('\\\\n','').replace('[','').replace(']','')"
   ]
  },
  {
   "cell_type": "code",
   "execution_count": 59,
   "metadata": {
    "collapsed": false
   },
   "outputs": [
    {
     "name": "stderr",
     "output_type": "stream",
     "text": [
      "/Users/caitlinmowdy/anaconda/envs/dsi/lib/python2.7/site-packages/bs4/__init__.py:166: UserWarning: No parser was explicitly specified, so I'm using the best available HTML parser for this system (\"lxml\"). This usually isn't a problem, but if you run this code on another system, or in a different virtual environment, it may use a different parser and behave differently.\n",
      "\n",
      "To get rid of this warning, change this:\n",
      "\n",
      " BeautifulSoup([your markup])\n",
      "\n",
      "to this:\n",
      "\n",
      " BeautifulSoup([your markup], \"lxml\")\n",
      "\n",
      "  markup_type=markup_type))\n"
     ]
    }
   ],
   "source": [
    "# clean hostel df\n",
    "\n",
    "my_hostels_df['FREE'] = my_hostels_df['FREE'].map(no_space_n)\n",
    "my_hostels_df['desc'] = my_hostels_df['desc'].map(no_space_n).map(no_r)\n",
    "my_hostels_df['GENERAL'] = my_hostels_df['GENERAL'].map(soupit).map(add_c).map(del_ec).map(no_nc).map(no_uni)\n",
    "my_hostels_df['SERVICES'] = my_hostels_df['SERVICES'].map(soupit).map(add_c).map(del_ec).map(no_nc) #.map(no_uni)\n",
    "my_hostels_df['FOOD_DRINK'] = my_hostels_df['FOOD_DRINK'].map(soupit).map(add_c).map(del_ec).map(no_nc) #.map(no_uni)\n",
    "my_hostels_df['ENTERTAINMENT'] = my_hostels_df['ENTERTAINMENT'].map(soupit).map(add_c).map(del_ec).map(no_nc).map(no_uni)\n",
    "my_hostels_df['POLICIES'] = my_hostels_df['POLICIES'].map(soupit).map(add_c).map(del_ec2).map(no_nc).map(no_uni)\n",
    "my_hostels_df['rev_highlights'] = my_hostels_df['rev_highlights'].map(soupit)\n",
    "\n",
    "# split location\n",
    "my_hostels_df['country'] = [a.split(\",\")[1] for a in my_hostels_df.location]\n",
    "my_hostels_df['city'] = [a.split(\",\")[0] for a in my_hostels_df.location]\n",
    "my_hostels_df.country = my_hostels_df.country.map(rv_s)\n",
    "\n",
    "# make hostel desc lowercase and remove special characters\n",
    "my_hostels_df.desc = [x.lower() for x in my_hostels_df.desc]\n",
    "my_hostels_df['desc'] = my_hostels_df['desc'].map(no_sc)\n",
    "\n"
   ]
  },
  {
   "cell_type": "code",
   "execution_count": 64,
   "metadata": {
    "collapsed": false
   },
   "outputs": [],
   "source": [
    "def no_sn(value):\n",
    "    return value.replace('\\\\n','')"
   ]
  },
  {
   "cell_type": "code",
   "execution_count": 80,
   "metadata": {
    "collapsed": false
   },
   "outputs": [
    {
     "data": {
      "text/plain": [
       "'Linen Included'"
      ]
     },
     "execution_count": 80,
     "metadata": {},
     "output_type": "execute_result"
    }
   ],
   "source": [
    "my_hostels_df['FREE'][2].split(',')[0].replace(\"[u'\",'').replace(\" '\",'')"
   ]
  },
  {
   "cell_type": "code",
   "execution_count": 106,
   "metadata": {
    "collapsed": false
   },
   "outputs": [],
   "source": [
    "my_hostels_df['POLICIES']=my_hostels_df['POLICIES'].map(no_n)"
   ]
  },
  {
   "cell_type": "code",
   "execution_count": 116,
   "metadata": {
    "collapsed": false
   },
   "outputs": [],
   "source": [
    "def des_c(value):\n",
    "    return value.replace('\\\\n','').replace('u\\\\r','').replace('u\"\\\\r','')\n",
    "my_hostels_df['desc'] = my_hostels_df['desc'].map(des_c)"
   ]
  },
  {
   "cell_type": "code",
   "execution_count": 117,
   "metadata": {
    "collapsed": false
   },
   "outputs": [
    {
     "data": {
      "text/html": [
       "<div>\n",
       "<table border=\"1\" class=\"dataframe\">\n",
       "  <thead>\n",
       "    <tr style=\"text-align: right;\">\n",
       "      <th></th>\n",
       "      <th>rating</th>\n",
       "      <th>desc</th>\n",
       "      <th>FREE</th>\n",
       "      <th>GENERAL</th>\n",
       "      <th>SERVICES</th>\n",
       "      <th>FOOD_DRINK</th>\n",
       "      <th>ENTERTAINMENT</th>\n",
       "      <th>POLICIES</th>\n",
       "      <th>hostel</th>\n",
       "      <th>location</th>\n",
       "      <th>num_revs</th>\n",
       "      <th>num_awards</th>\n",
       "      <th>rev_highlights</th>\n",
       "      <th>country</th>\n",
       "      <th>city</th>\n",
       "    </tr>\n",
       "  </thead>\n",
       "  <tbody>\n",
       "    <tr>\n",
       "      <th>0</th>\n",
       "      <td>9.0</td>\n",
       "      <td>[upariwana offers top quality affordable accom...</td>\n",
       "      <td>[u'Free Breakfast ', u'Linen Included ', u'Fre...</td>\n",
       "      <td>[u',Security Lockers, Common Room, Book Exchan...</td>\n",
       "      <td>[u',Internet Access, Airport Transfers, Towels...</td>\n",
       "      <td>[u',Restaurant, Bar, Meals Available, Cafe, Te...</td>\n",
       "      <td>[u',DVD's, Board Games, Games Room, Foosball, ...</td>\n",
       "      <td>[u',Age Restriction, Credit Cards Accepted, No...</td>\n",
       "      <td>Pariwana Backpacker Hostels</td>\n",
       "      <td>Lima, Peru</td>\n",
       "      <td>[]</td>\n",
       "      <td>0</td>\n",
       "      <td>[u'Perfect Location', u'Marvelous Staff', u'Fa...</td>\n",
       "      <td>Peru</td>\n",
       "      <td>Lima</td>\n",
       "    </tr>\n",
       "    <tr>\n",
       "      <th>1</th>\n",
       "      <td>8.7</td>\n",
       "      <td>[uwelcome to kipps hostel a friendly backpacke...</td>\n",
       "      <td>[u'Linen Included ', u'Towels Included ', u'Fr...</td>\n",
       "      <td>[u',Security Lockers, Common Room, Bicycle Par...</td>\n",
       "      <td>[u',Luggage Storage, Tours/Travel Desk, 24 Hou...</td>\n",
       "      <td>[u',Mini-Supermarket, ']</td>\n",
       "      <td>[u',Pool Table, ']</td>\n",
       "      <td>[u',Age Restriction, Credit Cards Accepted, No...</td>\n",
       "      <td>Kipps Hostel Canterbury</td>\n",
       "      <td>Canterbury, England</td>\n",
       "      <td>[]</td>\n",
       "      <td>2</td>\n",
       "      <td>[u'Wonderful Location', u'Marvelous Staff', u'...</td>\n",
       "      <td>England</td>\n",
       "      <td>Canterbury</td>\n",
       "    </tr>\n",
       "    <tr>\n",
       "      <th>2</th>\n",
       "      <td>8.9</td>\n",
       "      <td>[uour ecofriendly hostel is surrounded by gree...</td>\n",
       "      <td>[u'Linen Included ', u'Free Parking ', u'Free ...</td>\n",
       "      <td>[u',Security Lockers, Common Room, Bicycle Par...</td>\n",
       "      <td>[u',Internet Access, Laundry Facilities, Bicyc...</td>\n",
       "      <td>[u',Tea &amp; Coffee Making Facilities, ']</td>\n",
       "      <td>[u',DVD's, Wi-Fi, ']</td>\n",
       "      <td>[u',Child Friendly, No Curfew, Non Smoking,']</td>\n",
       "      <td>Tom's Comfort Hostel Waterford</td>\n",
       "      <td>Waterford, Ireland</td>\n",
       "      <td>[]</td>\n",
       "      <td>0</td>\n",
       "      <td>[u'Great Location', u'Superb Staff', u'Fantast...</td>\n",
       "      <td>Ireland</td>\n",
       "      <td>Waterford</td>\n",
       "    </tr>\n",
       "    <tr>\n",
       "      <th>3</th>\n",
       "      <td>8.0</td>\n",
       "      <td>[uever stayed in a converted church then come ...</td>\n",
       "      <td>[u'Linen Included ', u'Free City Maps ', u'Fre...</td>\n",
       "      <td>[u',Security Lockers, Common Room, BBQ, Breakf...</td>\n",
       "      <td>[u',Towels for hire, Luggage Storage, Tours/Tr...</td>\n",
       "      <td>[u',Bar, Vending Machines, Tea &amp; Coffee Making...</td>\n",
       "      <td>[u',DVD's, Games Room, Pool Table, Wi-Fi, ']</td>\n",
       "      <td>[u',Age Restriction, Credit Cards Accepted, No...</td>\n",
       "      <td>Belford Hostel</td>\n",
       "      <td>Edinburgh, Scotland</td>\n",
       "      <td>[]</td>\n",
       "      <td>0</td>\n",
       "      <td>[u'Great Location', u'Marvelous Staff', u'Awes...</td>\n",
       "      <td>Scotland</td>\n",
       "      <td>Edinburgh</td>\n",
       "    </tr>\n",
       "  </tbody>\n",
       "</table>\n",
       "</div>"
      ],
      "text/plain": [
       "   rating                                               desc  \\\n",
       "0     9.0  [upariwana offers top quality affordable accom...   \n",
       "1     8.7  [uwelcome to kipps hostel a friendly backpacke...   \n",
       "2     8.9  [uour ecofriendly hostel is surrounded by gree...   \n",
       "3     8.0  [uever stayed in a converted church then come ...   \n",
       "\n",
       "                                                FREE  \\\n",
       "0  [u'Free Breakfast ', u'Linen Included ', u'Fre...   \n",
       "1  [u'Linen Included ', u'Towels Included ', u'Fr...   \n",
       "2  [u'Linen Included ', u'Free Parking ', u'Free ...   \n",
       "3  [u'Linen Included ', u'Free City Maps ', u'Fre...   \n",
       "\n",
       "                                             GENERAL  \\\n",
       "0  [u',Security Lockers, Common Room, Book Exchan...   \n",
       "1  [u',Security Lockers, Common Room, Bicycle Par...   \n",
       "2  [u',Security Lockers, Common Room, Bicycle Par...   \n",
       "3  [u',Security Lockers, Common Room, BBQ, Breakf...   \n",
       "\n",
       "                                            SERVICES  \\\n",
       "0  [u',Internet Access, Airport Transfers, Towels...   \n",
       "1  [u',Luggage Storage, Tours/Travel Desk, 24 Hou...   \n",
       "2  [u',Internet Access, Laundry Facilities, Bicyc...   \n",
       "3  [u',Towels for hire, Luggage Storage, Tours/Tr...   \n",
       "\n",
       "                                          FOOD_DRINK  \\\n",
       "0  [u',Restaurant, Bar, Meals Available, Cafe, Te...   \n",
       "1                           [u',Mini-Supermarket, ']   \n",
       "2             [u',Tea & Coffee Making Facilities, ']   \n",
       "3  [u',Bar, Vending Machines, Tea & Coffee Making...   \n",
       "\n",
       "                                       ENTERTAINMENT  \\\n",
       "0  [u',DVD's, Board Games, Games Room, Foosball, ...   \n",
       "1                                 [u',Pool Table, ']   \n",
       "2                               [u',DVD's, Wi-Fi, ']   \n",
       "3       [u',DVD's, Games Room, Pool Table, Wi-Fi, ']   \n",
       "\n",
       "                                            POLICIES  \\\n",
       "0  [u',Age Restriction, Credit Cards Accepted, No...   \n",
       "1  [u',Age Restriction, Credit Cards Accepted, No...   \n",
       "2      [u',Child Friendly, No Curfew, Non Smoking,']   \n",
       "3  [u',Age Restriction, Credit Cards Accepted, No...   \n",
       "\n",
       "                           hostel             location num_revs  num_awards  \\\n",
       "0     Pariwana Backpacker Hostels           Lima, Peru       []           0   \n",
       "1         Kipps Hostel Canterbury  Canterbury, England       []           2   \n",
       "2  Tom's Comfort Hostel Waterford   Waterford, Ireland       []           0   \n",
       "3                  Belford Hostel  Edinburgh, Scotland       []           0   \n",
       "\n",
       "                                      rev_highlights   country        city  \n",
       "0  [u'Perfect Location', u'Marvelous Staff', u'Fa...      Peru        Lima  \n",
       "1  [u'Wonderful Location', u'Marvelous Staff', u'...   England  Canterbury  \n",
       "2  [u'Great Location', u'Superb Staff', u'Fantast...   Ireland   Waterford  \n",
       "3  [u'Great Location', u'Marvelous Staff', u'Awes...  Scotland   Edinburgh  "
      ]
     },
     "execution_count": 117,
     "metadata": {},
     "output_type": "execute_result"
    }
   ],
   "source": [
    "my_hostels_df.head()"
   ]
  },
  {
   "cell_type": "code",
   "execution_count": null,
   "metadata": {
    "collapsed": true
   },
   "outputs": [],
   "source": []
  }
 ],
 "metadata": {
  "kernelspec": {
   "display_name": "Python [dsi]",
   "language": "python",
   "name": "Python [dsi]"
  },
  "language_info": {
   "codemirror_mode": {
    "name": "ipython",
    "version": 2
   },
   "file_extension": ".py",
   "mimetype": "text/x-python",
   "name": "python",
   "nbconvert_exporter": "python",
   "pygments_lexer": "ipython2",
   "version": "2.7.12"
  }
 },
 "nbformat": 4,
 "nbformat_minor": 0
}
